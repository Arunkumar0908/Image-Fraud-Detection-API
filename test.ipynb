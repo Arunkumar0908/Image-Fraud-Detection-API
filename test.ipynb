{
 "cells": [
  {
   "cell_type": "markdown",
   "id": "e12872c8",
   "metadata": {},
   "source": [
    "python3 -m venv venv\n",
    "source venv/bin/activate\n",
    "python3 -m pip install --upgrade pip\n",
    "pip install torch==2.2.0 torchvision==0.17.0\n",
    "pip install -r requirements.txt  \n",
    "pip install git+https://github.com/openai/CLIP.git\n",
    "uvicorn app.main:app --host 0.0.0.0 --port 8001 --env-file .env"
   ]
  },
  {
   "cell_type": "code",
   "execution_count": null,
   "id": "1eda9321",
   "metadata": {
    "vscode": {
     "languageId": "plaintext"
    }
   },
   "outputs": [],
   "source": []
  }
 ],
 "metadata": {
  "language_info": {
   "name": "python"
  }
 },
 "nbformat": 4,
 "nbformat_minor": 5
}
